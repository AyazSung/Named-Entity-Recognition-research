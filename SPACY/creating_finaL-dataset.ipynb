{
 "cells": [
  {
   "cell_type": "code",
   "execution_count": 6,
   "outputs": [
    {
     "name": "stderr",
     "output_type": "stream",
     "text": [
      "C:\\Users\\SunagatullinAyaz\\.conda\\envs\\pythonProject2\\lib\\site-packages\\spacy\\util.py:910: UserWarning: [W095] Model 'en_core_web_sm' (3.6.0) was trained with spaCy v3.6.0 and may not be 100% compatible with the current version (3.7.1). If you see errors or degraded performance, download a newer compatible model or retrain your custom model with the current spaCy version. For more details and available updates, run: python -m spacy validate\n",
      "  warnings.warn(warn_msg)\n"
     ]
    }
   ],
   "source": [
    "import time\n",
    "import numpy as np\n",
    "import pandas as pd\n",
    "import os\n",
    "\n",
    "import spacy\n",
    "import en_core_web_sm\n",
    "\n",
    "spacy.prefer_gpu()\n",
    "nlp = spacy.load(\"en_core_web_sm\")\n",
    "\n",
    "from sklearn.model_selection import train_test_split\n",
    "import ast\n",
    "\n",
    "import spacy\n",
    "from spacy.tokens import DocBin\n",
    "from spacy.util import filter_spans\n",
    "\n",
    "from spacy.training import Example\n",
    "import random\n",
    "from tqdm import tqdm"
   ],
   "metadata": {
    "collapsed": false,
    "ExecuteTime": {
     "end_time": "2023-11-27T15:18:47.478997300Z",
     "start_time": "2023-11-27T15:18:46.730004800Z"
    }
   },
   "id": "9cccbedc916e675f"
  },
  {
   "cell_type": "code",
   "execution_count": 7,
   "id": "initial_id",
   "metadata": {
    "collapsed": true,
    "ExecuteTime": {
     "end_time": "2023-11-27T15:18:47.487997200Z",
     "start_time": "2023-11-27T15:18:47.464002500Z"
    }
   },
   "outputs": [],
   "source": [
    "def load_data(data_path):\n",
    "    df = pd.read_csv(data_path)\n",
    "    # Remove null values if any\n",
    "    df.dropna(inplace=True)\n",
    "    print(\"Number of records: \", len(df))\n",
    "    return df"
   ]
  },
  {
   "cell_type": "code",
   "execution_count": 8,
   "outputs": [
    {
     "name": "stdout",
     "output_type": "stream",
     "text": [
      "Number of records:  47959\n"
     ]
    },
    {
     "data": {
      "text/plain": "    Sentence #                                           Sentence  \\\n0  Sentence: 1  Thousands of demonstrators have marched throug...   \n1  Sentence: 2  Families of soldiers killed in the conflict jo...   \n2  Sentence: 3  They marched from the Houses of Parliament to ...   \n3  Sentence: 4  Police put the number of marchers at 10,000 wh...   \n4  Sentence: 5  The protest comes on the eve of the annual con...   \n\n                                                 POS  \\\n0  ['NNS', 'IN', 'NNS', 'VBP', 'VBN', 'IN', 'NNP'...   \n1  ['NNS', 'IN', 'NNS', 'VBN', 'IN', 'DT', 'NN', ...   \n2  ['PRP', 'VBD', 'IN', 'DT', 'NNS', 'IN', 'NN', ...   \n3  ['NNS', 'VBD', 'DT', 'NN', 'IN', 'NNS', 'IN', ...   \n4  ['DT', 'NN', 'VBZ', 'IN', 'DT', 'NN', 'IN', 'D...   \n\n                                                 Tag  \n0  ['O', 'O', 'O', 'O', 'O', 'O', 'B-geo', 'O', '...  \n1  ['O', 'O', 'O', 'O', 'O', 'O', 'O', 'O', 'O', ...  \n2  ['O', 'O', 'O', 'O', 'O', 'O', 'O', 'O', 'O', ...  \n3  ['O', 'O', 'O', 'O', 'O', 'O', 'O', 'O', 'O', ...  \n4  ['O', 'O', 'O', 'O', 'O', 'O', 'O', 'O', 'O', ...  ",
      "text/html": "<div>\n<style scoped>\n    .dataframe tbody tr th:only-of-type {\n        vertical-align: middle;\n    }\n\n    .dataframe tbody tr th {\n        vertical-align: top;\n    }\n\n    .dataframe thead th {\n        text-align: right;\n    }\n</style>\n<table border=\"1\" class=\"dataframe\">\n  <thead>\n    <tr style=\"text-align: right;\">\n      <th></th>\n      <th>Sentence #</th>\n      <th>Sentence</th>\n      <th>POS</th>\n      <th>Tag</th>\n    </tr>\n  </thead>\n  <tbody>\n    <tr>\n      <th>0</th>\n      <td>Sentence: 1</td>\n      <td>Thousands of demonstrators have marched throug...</td>\n      <td>['NNS', 'IN', 'NNS', 'VBP', 'VBN', 'IN', 'NNP'...</td>\n      <td>['O', 'O', 'O', 'O', 'O', 'O', 'B-geo', 'O', '...</td>\n    </tr>\n    <tr>\n      <th>1</th>\n      <td>Sentence: 2</td>\n      <td>Families of soldiers killed in the conflict jo...</td>\n      <td>['NNS', 'IN', 'NNS', 'VBN', 'IN', 'DT', 'NN', ...</td>\n      <td>['O', 'O', 'O', 'O', 'O', 'O', 'O', 'O', 'O', ...</td>\n    </tr>\n    <tr>\n      <th>2</th>\n      <td>Sentence: 3</td>\n      <td>They marched from the Houses of Parliament to ...</td>\n      <td>['PRP', 'VBD', 'IN', 'DT', 'NNS', 'IN', 'NN', ...</td>\n      <td>['O', 'O', 'O', 'O', 'O', 'O', 'O', 'O', 'O', ...</td>\n    </tr>\n    <tr>\n      <th>3</th>\n      <td>Sentence: 4</td>\n      <td>Police put the number of marchers at 10,000 wh...</td>\n      <td>['NNS', 'VBD', 'DT', 'NN', 'IN', 'NNS', 'IN', ...</td>\n      <td>['O', 'O', 'O', 'O', 'O', 'O', 'O', 'O', 'O', ...</td>\n    </tr>\n    <tr>\n      <th>4</th>\n      <td>Sentence: 5</td>\n      <td>The protest comes on the eve of the annual con...</td>\n      <td>['DT', 'NN', 'VBZ', 'IN', 'DT', 'NN', 'IN', 'D...</td>\n      <td>['O', 'O', 'O', 'O', 'O', 'O', 'O', 'O', 'O', ...</td>\n    </tr>\n  </tbody>\n</table>\n</div>"
     },
     "execution_count": 8,
     "metadata": {},
     "output_type": "execute_result"
    }
   ],
   "source": [
    "df = load_data('dataset/ner.csv')\n",
    "df.head()"
   ],
   "metadata": {
    "collapsed": false,
    "ExecuteTime": {
     "end_time": "2023-11-27T15:18:48.134995500Z",
     "start_time": "2023-11-27T15:18:47.693998100Z"
    }
   },
   "id": "96aaa92bda3f26dc"
  },
  {
   "cell_type": "code",
   "execution_count": 9,
   "outputs": [],
   "source": [
    "def preprocess_data(df):\n",
    "    for i in range(len(df)):\n",
    "        pos = ast.literal_eval(df['POS'][i])\n",
    "        tags = ast.literal_eval(df['Tag'][i])\n",
    "        df['POS'][i] = [str(word) for word in pos]\n",
    "        df['Tag'][i] = [str(word.upper()) for word in tags]\n",
    "    return df"
   ],
   "metadata": {
    "collapsed": false,
    "ExecuteTime": {
     "end_time": "2023-11-27T15:18:48.539872100Z",
     "start_time": "2023-11-27T15:18:48.525880600Z"
    }
   },
   "id": "2e53bac32cd6b82e"
  },
  {
   "cell_type": "code",
   "execution_count": 10,
   "outputs": [
    {
     "data": {
      "text/plain": "    Sentence #                                           Sentence  \\\n0  Sentence: 1  Thousands of demonstrators have marched throug...   \n1  Sentence: 2  Families of soldiers killed in the conflict jo...   \n2  Sentence: 3  They marched from the Houses of Parliament to ...   \n3  Sentence: 4  Police put the number of marchers at 10,000 wh...   \n4  Sentence: 5  The protest comes on the eve of the annual con...   \n\n                                                 POS  \\\n0  [NNS, IN, NNS, VBP, VBN, IN, NNP, TO, VB, DT, ...   \n1  [NNS, IN, NNS, VBN, IN, DT, NN, VBD, DT, NNS, ...   \n2  [PRP, VBD, IN, DT, NNS, IN, NN, TO, DT, NN, IN...   \n3  [NNS, VBD, DT, NN, IN, NNS, IN, CD, IN, NNS, V...   \n4  [DT, NN, VBZ, IN, DT, NN, IN, DT, JJ, NN, IN, ...   \n\n                                                 Tag  \n0  [O, O, O, O, O, O, B-GEO, O, O, O, O, O, B-GEO...  \n1  [O, O, O, O, O, O, O, O, O, O, O, O, O, O, O, ...  \n2  [O, O, O, O, O, O, O, O, O, O, O, B-GEO, I-GEO...  \n3      [O, O, O, O, O, O, O, O, O, O, O, O, O, O, O]  \n4  [O, O, O, O, O, O, O, O, O, O, O, B-GEO, O, O,...  ",
      "text/html": "<div>\n<style scoped>\n    .dataframe tbody tr th:only-of-type {\n        vertical-align: middle;\n    }\n\n    .dataframe tbody tr th {\n        vertical-align: top;\n    }\n\n    .dataframe thead th {\n        text-align: right;\n    }\n</style>\n<table border=\"1\" class=\"dataframe\">\n  <thead>\n    <tr style=\"text-align: right;\">\n      <th></th>\n      <th>Sentence #</th>\n      <th>Sentence</th>\n      <th>POS</th>\n      <th>Tag</th>\n    </tr>\n  </thead>\n  <tbody>\n    <tr>\n      <th>0</th>\n      <td>Sentence: 1</td>\n      <td>Thousands of demonstrators have marched throug...</td>\n      <td>[NNS, IN, NNS, VBP, VBN, IN, NNP, TO, VB, DT, ...</td>\n      <td>[O, O, O, O, O, O, B-GEO, O, O, O, O, O, B-GEO...</td>\n    </tr>\n    <tr>\n      <th>1</th>\n      <td>Sentence: 2</td>\n      <td>Families of soldiers killed in the conflict jo...</td>\n      <td>[NNS, IN, NNS, VBN, IN, DT, NN, VBD, DT, NNS, ...</td>\n      <td>[O, O, O, O, O, O, O, O, O, O, O, O, O, O, O, ...</td>\n    </tr>\n    <tr>\n      <th>2</th>\n      <td>Sentence: 3</td>\n      <td>They marched from the Houses of Parliament to ...</td>\n      <td>[PRP, VBD, IN, DT, NNS, IN, NN, TO, DT, NN, IN...</td>\n      <td>[O, O, O, O, O, O, O, O, O, O, O, B-GEO, I-GEO...</td>\n    </tr>\n    <tr>\n      <th>3</th>\n      <td>Sentence: 4</td>\n      <td>Police put the number of marchers at 10,000 wh...</td>\n      <td>[NNS, VBD, DT, NN, IN, NNS, IN, CD, IN, NNS, V...</td>\n      <td>[O, O, O, O, O, O, O, O, O, O, O, O, O, O, O]</td>\n    </tr>\n    <tr>\n      <th>4</th>\n      <td>Sentence: 5</td>\n      <td>The protest comes on the eve of the annual con...</td>\n      <td>[DT, NN, VBZ, IN, DT, NN, IN, DT, JJ, NN, IN, ...</td>\n      <td>[O, O, O, O, O, O, O, O, O, O, O, B-GEO, O, O,...</td>\n    </tr>\n  </tbody>\n</table>\n</div>"
     },
     "execution_count": 10,
     "metadata": {},
     "output_type": "execute_result"
    }
   ],
   "source": [
    "df = preprocess_data(df)\n",
    "df.head()"
   ],
   "metadata": {
    "collapsed": false,
    "ExecuteTime": {
     "end_time": "2023-11-27T15:20:35.031581200Z",
     "start_time": "2023-11-27T15:18:49.087276600Z"
    }
   },
   "id": "c3759f5a90d029c7"
  },
  {
   "cell_type": "code",
   "execution_count": 11,
   "outputs": [
    {
     "data": {
      "text/plain": "(38367, 9592)"
     },
     "execution_count": 11,
     "metadata": {},
     "output_type": "execute_result"
    }
   ],
   "source": [
    "df_final = df[['Sentence', 'Tag']]\n",
    "\n",
    "df_train, df_test = train_test_split(df_final, test_size=0.2, random_state=42)\n",
    "len(df_train), len(df_test)"
   ],
   "metadata": {
    "collapsed": false,
    "ExecuteTime": {
     "end_time": "2023-11-27T15:20:35.159582800Z",
     "start_time": "2023-11-27T15:20:35.028617700Z"
    }
   },
   "id": "5fa8337648621fb7"
  },
  {
   "cell_type": "code",
   "execution_count": 12,
   "outputs": [
    {
     "data": {
      "text/plain": "                                            Sentence  \\\n0  Thousands of demonstrators have marched throug...   \n1  Families of soldiers killed in the conflict jo...   \n2  They marched from the Houses of Parliament to ...   \n3  Police put the number of marchers at 10,000 wh...   \n4  The protest comes on the eve of the annual con...   \n\n                                                 Tag  \n0  [O, O, O, O, O, O, B-GEO, O, O, O, O, O, B-GEO...  \n1  [O, O, O, O, O, O, O, O, O, O, O, O, O, O, O, ...  \n2  [O, O, O, O, O, O, O, O, O, O, O, B-GEO, I-GEO...  \n3      [O, O, O, O, O, O, O, O, O, O, O, O, O, O, O]  \n4  [O, O, O, O, O, O, O, O, O, O, O, B-GEO, O, O,...  ",
      "text/html": "<div>\n<style scoped>\n    .dataframe tbody tr th:only-of-type {\n        vertical-align: middle;\n    }\n\n    .dataframe tbody tr th {\n        vertical-align: top;\n    }\n\n    .dataframe thead th {\n        text-align: right;\n    }\n</style>\n<table border=\"1\" class=\"dataframe\">\n  <thead>\n    <tr style=\"text-align: right;\">\n      <th></th>\n      <th>Sentence</th>\n      <th>Tag</th>\n    </tr>\n  </thead>\n  <tbody>\n    <tr>\n      <th>0</th>\n      <td>Thousands of demonstrators have marched throug...</td>\n      <td>[O, O, O, O, O, O, B-GEO, O, O, O, O, O, B-GEO...</td>\n    </tr>\n    <tr>\n      <th>1</th>\n      <td>Families of soldiers killed in the conflict jo...</td>\n      <td>[O, O, O, O, O, O, O, O, O, O, O, O, O, O, O, ...</td>\n    </tr>\n    <tr>\n      <th>2</th>\n      <td>They marched from the Houses of Parliament to ...</td>\n      <td>[O, O, O, O, O, O, O, O, O, O, O, B-GEO, I-GEO...</td>\n    </tr>\n    <tr>\n      <th>3</th>\n      <td>Police put the number of marchers at 10,000 wh...</td>\n      <td>[O, O, O, O, O, O, O, O, O, O, O, O, O, O, O]</td>\n    </tr>\n    <tr>\n      <th>4</th>\n      <td>The protest comes on the eve of the annual con...</td>\n      <td>[O, O, O, O, O, O, O, O, O, O, O, B-GEO, O, O,...</td>\n    </tr>\n  </tbody>\n</table>\n</div>"
     },
     "execution_count": 12,
     "metadata": {},
     "output_type": "execute_result"
    }
   ],
   "source": [
    "df_final.reset_index(drop=True, inplace=True)\n",
    "df_final.head()"
   ],
   "metadata": {
    "collapsed": false,
    "ExecuteTime": {
     "end_time": "2023-11-27T15:20:35.160580700Z",
     "start_time": "2023-11-27T15:20:35.080579600Z"
    }
   },
   "id": "d9cdb5805c13df00"
  },
  {
   "cell_type": "code",
   "execution_count": 13,
   "outputs": [
    {
     "data": {
      "text/plain": "47959"
     },
     "execution_count": 13,
     "metadata": {},
     "output_type": "execute_result"
    }
   ],
   "source": [
    "len(df_final)"
   ],
   "metadata": {
    "collapsed": false,
    "ExecuteTime": {
     "end_time": "2023-11-27T15:20:35.176922800Z",
     "start_time": "2023-11-27T15:20:35.092580500Z"
    }
   },
   "id": "c50e03d5c3d64251"
  },
  {
   "cell_type": "code",
   "execution_count": 10,
   "outputs": [],
   "source": [
    "# save df_final\n",
    "df_final.to_csv('dataset/df_final.csv', index=False)"
   ],
   "metadata": {
    "collapsed": false,
    "ExecuteTime": {
     "end_time": "2023-11-27T14:30:24.413571400Z",
     "start_time": "2023-11-27T14:30:23.534569900Z"
    }
   },
   "id": "574dc42a675f10bf"
  }
 ],
 "metadata": {
  "kernelspec": {
   "display_name": "Python 3",
   "language": "python",
   "name": "python3"
  },
  "language_info": {
   "codemirror_mode": {
    "name": "ipython",
    "version": 2
   },
   "file_extension": ".py",
   "mimetype": "text/x-python",
   "name": "python",
   "nbconvert_exporter": "python",
   "pygments_lexer": "ipython2",
   "version": "2.7.6"
  }
 },
 "nbformat": 4,
 "nbformat_minor": 5
}
