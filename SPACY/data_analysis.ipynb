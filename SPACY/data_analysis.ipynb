{
 "cells": [
  {
   "cell_type": "markdown",
   "source": [
    "1. Import Libraries:\n",
    "- The necessary libraries such as time, numpy, pandas, os, spacy, sklearn, ast, and others are imported."
   ],
   "metadata": {
    "collapsed": false
   },
   "id": "af2806c6e3b0b66b"
  },
  {
   "cell_type": "code",
   "execution_count": 2,
   "id": "initial_id",
   "metadata": {
    "collapsed": true,
    "ExecuteTime": {
     "end_time": "2023-11-27T15:13:53.571514Z",
     "start_time": "2023-11-27T15:13:33.552825400Z"
    }
   },
   "outputs": [
    {
     "name": "stderr",
     "output_type": "stream",
     "text": [
      "C:\\Users\\SunagatullinAyaz\\.conda\\envs\\pythonProject2\\lib\\site-packages\\spacy\\util.py:910: UserWarning: [W095] Model 'en_core_web_sm' (3.6.0) was trained with spaCy v3.6.0 and may not be 100% compatible with the current version (3.7.1). If you see errors or degraded performance, download a newer compatible model or retrain your custom model with the current spaCy version. For more details and available updates, run: python -m spacy validate\n",
      "  warnings.warn(warn_msg)\n"
     ]
    }
   ],
   "source": [
    "import time\n",
    "import numpy as np\n",
    "import pandas as pd\n",
    "import os\n",
    "\n",
    "import spacy\n",
    "import en_core_web_sm\n",
    "\n",
    "spacy.prefer_gpu()\n",
    "nlp = spacy.load(\"en_core_web_sm\")\n",
    "\n",
    "from sklearn.model_selection import train_test_split\n",
    "import ast\n",
    "\n",
    "import spacy\n",
    "from spacy.tokens import DocBin\n",
    "from spacy.util import filter_spans\n",
    "\n",
    "from spacy.training import Example\n",
    "import random\n",
    "from tqdm import tqdm"
   ]
  },
  {
   "cell_type": "code",
   "execution_count": 3,
   "outputs": [
    {
     "name": "stdout",
     "output_type": "stream",
     "text": [
      "dataset\\NER_dataset.csv\n"
     ]
    }
   ],
   "source": [
    "# Print file paths in the 'dataset' directory\n",
    "for dirname, _, filenames in os.walk('dataset'):\n",
    "    for filename in filenames:\n",
    "        print(os.path.join(dirname, filename))"
   ],
   "metadata": {
    "collapsed": false,
    "ExecuteTime": {
     "end_time": "2023-11-27T15:13:53.598505100Z",
     "start_time": "2023-11-27T15:13:53.576506800Z"
    }
   },
   "id": "2b5e5787718a000c"
  },
  {
   "cell_type": "code",
   "execution_count": 4,
   "outputs": [
    {
     "data": {
      "text/plain": "          Sentence #           Word  POS Tag\n0        Sentence: 1      Thousands  NNS   O\n1                NaN             of   IN   O\n2                NaN  demonstrators  NNS   O\n3                NaN           have  VBP   O\n4                NaN        marched  VBN   O\n...              ...            ...  ...  ..\n1048570          NaN           they  PRP   O\n1048571          NaN      responded  VBD   O\n1048572          NaN             to   TO   O\n1048573          NaN            the   DT   O\n1048574          NaN         attack   NN   O\n\n[1048575 rows x 4 columns]",
      "text/html": "<div>\n<style scoped>\n    .dataframe tbody tr th:only-of-type {\n        vertical-align: middle;\n    }\n\n    .dataframe tbody tr th {\n        vertical-align: top;\n    }\n\n    .dataframe thead th {\n        text-align: right;\n    }\n</style>\n<table border=\"1\" class=\"dataframe\">\n  <thead>\n    <tr style=\"text-align: right;\">\n      <th></th>\n      <th>Sentence #</th>\n      <th>Word</th>\n      <th>POS</th>\n      <th>Tag</th>\n    </tr>\n  </thead>\n  <tbody>\n    <tr>\n      <th>0</th>\n      <td>Sentence: 1</td>\n      <td>Thousands</td>\n      <td>NNS</td>\n      <td>O</td>\n    </tr>\n    <tr>\n      <th>1</th>\n      <td>NaN</td>\n      <td>of</td>\n      <td>IN</td>\n      <td>O</td>\n    </tr>\n    <tr>\n      <th>2</th>\n      <td>NaN</td>\n      <td>demonstrators</td>\n      <td>NNS</td>\n      <td>O</td>\n    </tr>\n    <tr>\n      <th>3</th>\n      <td>NaN</td>\n      <td>have</td>\n      <td>VBP</td>\n      <td>O</td>\n    </tr>\n    <tr>\n      <th>4</th>\n      <td>NaN</td>\n      <td>marched</td>\n      <td>VBN</td>\n      <td>O</td>\n    </tr>\n    <tr>\n      <th>...</th>\n      <td>...</td>\n      <td>...</td>\n      <td>...</td>\n      <td>...</td>\n    </tr>\n    <tr>\n      <th>1048570</th>\n      <td>NaN</td>\n      <td>they</td>\n      <td>PRP</td>\n      <td>O</td>\n    </tr>\n    <tr>\n      <th>1048571</th>\n      <td>NaN</td>\n      <td>responded</td>\n      <td>VBD</td>\n      <td>O</td>\n    </tr>\n    <tr>\n      <th>1048572</th>\n      <td>NaN</td>\n      <td>to</td>\n      <td>TO</td>\n      <td>O</td>\n    </tr>\n    <tr>\n      <th>1048573</th>\n      <td>NaN</td>\n      <td>the</td>\n      <td>DT</td>\n      <td>O</td>\n    </tr>\n    <tr>\n      <th>1048574</th>\n      <td>NaN</td>\n      <td>attack</td>\n      <td>NN</td>\n      <td>O</td>\n    </tr>\n  </tbody>\n</table>\n<p>1048575 rows × 4 columns</p>\n</div>"
     },
     "execution_count": 4,
     "metadata": {},
     "output_type": "execute_result"
    }
   ],
   "source": [
    "ner_dataset = pd.read_csv(\"dataset/NER_dataset.csv\", encoding=\"latin1\")\n",
    "ner_dataset"
   ],
   "metadata": {
    "collapsed": false,
    "ExecuteTime": {
     "end_time": "2023-11-27T15:13:54.045934500Z",
     "start_time": "2023-11-27T15:13:53.589506800Z"
    }
   },
   "id": "9c2c3c25a9fdbfc9"
  },
  {
   "cell_type": "code",
   "execution_count": 5,
   "outputs": [
    {
     "data": {
      "text/plain": "         Sentence #     Word      POS      Tag\ncount         47959  1048575  1048575  1048575\nunique        47959    35178       42       17\ntop     Sentence: 1      the       NN        O\nfreq              1    52573   145807   887908",
      "text/html": "<div>\n<style scoped>\n    .dataframe tbody tr th:only-of-type {\n        vertical-align: middle;\n    }\n\n    .dataframe tbody tr th {\n        vertical-align: top;\n    }\n\n    .dataframe thead th {\n        text-align: right;\n    }\n</style>\n<table border=\"1\" class=\"dataframe\">\n  <thead>\n    <tr style=\"text-align: right;\">\n      <th></th>\n      <th>Sentence #</th>\n      <th>Word</th>\n      <th>POS</th>\n      <th>Tag</th>\n    </tr>\n  </thead>\n  <tbody>\n    <tr>\n      <th>count</th>\n      <td>47959</td>\n      <td>1048575</td>\n      <td>1048575</td>\n      <td>1048575</td>\n    </tr>\n    <tr>\n      <th>unique</th>\n      <td>47959</td>\n      <td>35178</td>\n      <td>42</td>\n      <td>17</td>\n    </tr>\n    <tr>\n      <th>top</th>\n      <td>Sentence: 1</td>\n      <td>the</td>\n      <td>NN</td>\n      <td>O</td>\n    </tr>\n    <tr>\n      <th>freq</th>\n      <td>1</td>\n      <td>52573</td>\n      <td>145807</td>\n      <td>887908</td>\n    </tr>\n  </tbody>\n</table>\n</div>"
     },
     "execution_count": 5,
     "metadata": {},
     "output_type": "execute_result"
    }
   ],
   "source": [
    "ner_dataset.describe()"
   ],
   "metadata": {
    "collapsed": false,
    "ExecuteTime": {
     "end_time": "2023-11-27T15:14:33.034768100Z",
     "start_time": "2023-11-27T15:14:32.429500800Z"
    }
   },
   "id": "82d89214cc206aa2"
  },
  {
   "cell_type": "code",
   "execution_count": 6,
   "outputs": [
    {
     "name": "stdout",
     "output_type": "stream",
     "text": [
      "<class 'pandas.core.frame.DataFrame'>\n",
      "RangeIndex: 1048575 entries, 0 to 1048574\n",
      "Data columns (total 4 columns):\n",
      " #   Column      Non-Null Count    Dtype \n",
      "---  ------      --------------    ----- \n",
      " 0   Sentence #  47959 non-null    object\n",
      " 1   Word        1048575 non-null  object\n",
      " 2   POS         1048575 non-null  object\n",
      " 3   Tag         1048575 non-null  object\n",
      "dtypes: object(4)\n",
      "memory usage: 32.0+ MB\n"
     ]
    }
   ],
   "source": [
    "ner_dataset.info()"
   ],
   "metadata": {
    "collapsed": false,
    "ExecuteTime": {
     "end_time": "2023-11-27T15:14:40.887292800Z",
     "start_time": "2023-11-27T15:14:40.692300500Z"
    }
   },
   "id": "fee387c29c336fd5"
  },
  {
   "cell_type": "code",
   "execution_count": 7,
   "outputs": [
    {
     "data": {
      "text/plain": "NN      145807\nNNP     131426\nIN      120996\nDT       98454\nJJ       78412\nNNS      75840\n.        47831\nVBD      39379\n,        32757\nVBN      32328\nVBZ      24960\nCD       24695\nVB       24211\nCC       23716\nTO       23061\nRB       20252\nVBG      19125\nVBP      16158\nPRP      13318\nPOS      11257\nPRP$      8655\nMD        6973\n``        3728\nWDT       3698\nJJS       3034\nJJR       2967\nWP        2542\nNNPS      2521\nRP        2490\nWRB       2184\n$         1149\nRBR       1055\n:          795\nRRB        679\nLRB        678\nEX         663\nRBS        296\n;          214\nPDT        147\nWP$         99\nUH          24\nFW           1\nName: POS, dtype: int64"
     },
     "execution_count": 7,
     "metadata": {},
     "output_type": "execute_result"
    }
   ],
   "source": [
    "ner_dataset[\"POS\"].value_counts()"
   ],
   "metadata": {
    "collapsed": false,
    "ExecuteTime": {
     "end_time": "2023-11-27T15:15:09.283007200Z",
     "start_time": "2023-11-27T15:15:09.180007400Z"
    }
   },
   "id": "e3dd3f867c7cc4da"
  },
  {
   "cell_type": "code",
   "execution_count": 8,
   "outputs": [
    {
     "data": {
      "text/plain": "O        887908\nB-geo     37644\nB-tim     20333\nB-org     20143\nI-per     17251\nB-per     16990\nI-org     16784\nB-gpe     15870\nI-geo      7414\nI-tim      6528\nB-art       402\nB-eve       308\nI-art       297\nI-eve       253\nB-nat       201\nI-gpe       198\nI-nat        51\nName: Tag, dtype: int64"
     },
     "execution_count": 8,
     "metadata": {},
     "output_type": "execute_result"
    }
   ],
   "source": [
    "ner_dataset[\"Tag\"].value_counts()"
   ],
   "metadata": {
    "collapsed": false,
    "ExecuteTime": {
     "end_time": "2023-11-27T15:15:12.796855400Z",
     "start_time": "2023-11-27T15:15:12.689856900Z"
    }
   },
   "id": "ff5e82958556abf3"
  },
  {
   "cell_type": "code",
   "execution_count": 3,
   "outputs": [
    {
     "data": {
      "text/plain": "         City State short   State full    County                City alias\n0  Holtsville          NY     New York   SUFFOLK  Internal Revenue Service\n1  Holtsville          NY     New York   SUFFOLK                Holtsville\n2    Adjuntas          PR  Puerto Rico  ADJUNTAS           URB San Joaquin\n3    Adjuntas          PR  Puerto Rico  ADJUNTAS          Jard De Adjuntas\n4    Adjuntas          PR  Puerto Rico  ADJUNTAS       Colinas Del Gigante",
      "text/html": "<div>\n<style scoped>\n    .dataframe tbody tr th:only-of-type {\n        vertical-align: middle;\n    }\n\n    .dataframe tbody tr th {\n        vertical-align: top;\n    }\n\n    .dataframe thead th {\n        text-align: right;\n    }\n</style>\n<table border=\"1\" class=\"dataframe\">\n  <thead>\n    <tr style=\"text-align: right;\">\n      <th></th>\n      <th>City</th>\n      <th>State short</th>\n      <th>State full</th>\n      <th>County</th>\n      <th>City alias</th>\n    </tr>\n  </thead>\n  <tbody>\n    <tr>\n      <th>0</th>\n      <td>Holtsville</td>\n      <td>NY</td>\n      <td>New York</td>\n      <td>SUFFOLK</td>\n      <td>Internal Revenue Service</td>\n    </tr>\n    <tr>\n      <th>1</th>\n      <td>Holtsville</td>\n      <td>NY</td>\n      <td>New York</td>\n      <td>SUFFOLK</td>\n      <td>Holtsville</td>\n    </tr>\n    <tr>\n      <th>2</th>\n      <td>Adjuntas</td>\n      <td>PR</td>\n      <td>Puerto Rico</td>\n      <td>ADJUNTAS</td>\n      <td>URB San Joaquin</td>\n    </tr>\n    <tr>\n      <th>3</th>\n      <td>Adjuntas</td>\n      <td>PR</td>\n      <td>Puerto Rico</td>\n      <td>ADJUNTAS</td>\n      <td>Jard De Adjuntas</td>\n    </tr>\n    <tr>\n      <th>4</th>\n      <td>Adjuntas</td>\n      <td>PR</td>\n      <td>Puerto Rico</td>\n      <td>ADJUNTAS</td>\n      <td>Colinas Del Gigante</td>\n    </tr>\n  </tbody>\n</table>\n</div>"
     },
     "execution_count": 3,
     "metadata": {},
     "output_type": "execute_result"
    }
   ],
   "source": [
    "dfRaw = pd.read_csv(\n",
    "    \"https://raw.githubusercontent.com/orico/SpacyVsStanfordNER/master/data/us_cities_states_counties.csv\")\n",
    "dfRaw.head()"
   ],
   "metadata": {
    "collapsed": false,
    "ExecuteTime": {
     "end_time": "2023-11-27T15:05:01.906768800Z",
     "start_time": "2023-11-27T15:04:42.275120800Z"
    }
   },
   "id": "467c80734271a130"
  },
  {
   "cell_type": "code",
   "execution_count": 4,
   "outputs": [
    {
     "name": "stdout",
     "output_type": "stream",
     "text": [
      "The shape of dataframe is:  (63211, 5)\n",
      "Unique number of StateShort are: 18857\n",
      "Unique number of County are: 1932\n",
      "Unique number of City Alias are: 39891\n"
     ]
    }
   ],
   "source": [
    "print(\"The shape of dataframe is: \", dfRaw.shape)\n",
    "print(\"Unique number of StateShort are:\", len(dfRaw.City.unique()))\n",
    "print(\"Unique number of County are:\", len(dfRaw['County'].unique()))\n",
    "print(\"Unique number of City Alias are:\", len(dfRaw['City alias'].unique()))"
   ],
   "metadata": {
    "collapsed": false,
    "ExecuteTime": {
     "end_time": "2023-11-27T15:05:01.966606100Z",
     "start_time": "2023-11-27T15:05:01.925773400Z"
    }
   },
   "id": "a8ff9e905c2627a4"
  },
  {
   "cell_type": "code",
   "execution_count": 5,
   "outputs": [
    {
     "data": {
      "text/plain": "City           False\nState short    False\nState full     False\nCounty         False\nCity alias     False\ndtype: bool"
     },
     "execution_count": 5,
     "metadata": {},
     "output_type": "execute_result"
    }
   ],
   "source": [
    "# Drop rows with missing values\n",
    "dfRaw.dropna(inplace=True)\n",
    "dfRaw.isna().any()"
   ],
   "metadata": {
    "collapsed": false,
    "ExecuteTime": {
     "end_time": "2023-11-27T15:05:02.055100300Z",
     "start_time": "2023-11-27T15:05:01.951613100Z"
    }
   },
   "id": "b166d5d991354ac1"
  },
  {
   "cell_type": "code",
   "execution_count": 6,
   "outputs": [],
   "source": [
    "City_modified = dfRaw.City.sample(500)"
   ],
   "metadata": {
    "collapsed": false,
    "ExecuteTime": {
     "end_time": "2023-11-27T15:05:02.098107400Z",
     "start_time": "2023-11-27T15:05:01.988618600Z"
    }
   },
   "id": "73cd6892d5e0e0b1"
  },
  {
   "cell_type": "markdown",
   "source": [
    "Print Results:\n",
    "- The script prints the time taken for spaCy processing, the number of unique cities in the original dataset,\n",
    "the number of unique cities spaCy obtained, and the percentage of data recognized by spaCy.\n"
   ],
   "metadata": {
    "collapsed": false
   },
   "id": "bd239e253b12d1f5"
  },
  {
   "cell_type": "code",
   "execution_count": 7,
   "outputs": [
    {
     "name": "stderr",
     "output_type": "stream",
     "text": [
      "63203it [05:04, 207.70it/s]"
     ]
    },
    {
     "name": "stdout",
     "output_type": "stream",
     "text": [
      "Time taken for spaCy:  304.31031942367554 seconds\n",
      "Number of Unique City we had:  18852\n",
      "Number of Unique City spaCy obtained:  15132\n",
      "Percentage of data recognised 80.26734563971992 %\n"
     ]
    },
    {
     "name": "stderr",
     "output_type": "stream",
     "text": [
      "\n"
     ]
    }
   ],
   "source": [
    "count = set()\n",
    "stime = time.time()\n",
    "\n",
    "for i, city in tqdm(enumerate(dfRaw['City'].values)):\n",
    "    doc = nlp(city)\n",
    "    for x in doc.ents:\n",
    "        # Extract 'GPE' (geopolitical entity) entities and add to the set\n",
    "        if x.label_ == 'GPE':\n",
    "            count.add(x)\n",
    "print(\"Time taken for spaCy: \", time.time() - stime, \"seconds\")\n",
    "print(\"Number of Unique City we had: \", len(dfRaw['City'].unique()))\n",
    "print(\"Number of Unique City spaCy obtained: \", len(count))\n",
    "print(\"Percentage of data recognised\", len(count) * 100 / len(dfRaw['City'].unique()), '%')"
   ],
   "metadata": {
    "collapsed": false,
    "ExecuteTime": {
     "end_time": "2023-11-27T15:10:06.352615200Z",
     "start_time": "2023-11-27T15:05:02.004615800Z"
    }
   },
   "id": "a8dbde7f9073cfc"
  }
 ],
 "metadata": {
  "kernelspec": {
   "display_name": "Python 3",
   "language": "python",
   "name": "python3"
  },
  "language_info": {
   "codemirror_mode": {
    "name": "ipython",
    "version": 2
   },
   "file_extension": ".py",
   "mimetype": "text/x-python",
   "name": "python",
   "nbconvert_exporter": "python",
   "pygments_lexer": "ipython2",
   "version": "2.7.6"
  }
 },
 "nbformat": 4,
 "nbformat_minor": 5
}
