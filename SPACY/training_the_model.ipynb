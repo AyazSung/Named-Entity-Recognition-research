{
 "cells": [
  {
   "cell_type": "code",
   "execution_count": 1,
   "id": "initial_id",
   "metadata": {
    "collapsed": true,
    "ExecuteTime": {
     "end_time": "2023-11-27T14:37:59.206655700Z",
     "start_time": "2023-11-27T14:37:39.613058800Z"
    }
   },
   "outputs": [
    {
     "name": "stderr",
     "output_type": "stream",
     "text": [
      "C:\\Users\\SunagatullinAyaz\\.conda\\envs\\pythonProject2\\lib\\site-packages\\spacy\\util.py:910: UserWarning: [W095] Model 'en_core_web_sm' (3.6.0) was trained with spaCy v3.6.0 and may not be 100% compatible with the current version (3.7.1). If you see errors or degraded performance, download a newer compatible model or retrain your custom model with the current spaCy version. For more details and available updates, run: python -m spacy validate\n",
      "  warnings.warn(warn_msg)\n"
     ]
    }
   ],
   "source": [
    "import spacy\n",
    "import time\n",
    "import numpy as np\n",
    "import pandas as pd\n",
    "import os\n",
    "\n",
    "import spacy\n",
    "import en_core_web_sm\n",
    "\n",
    "spacy.prefer_gpu()\n",
    "\n",
    "from sklearn.model_selection import train_test_split\n",
    "import ast\n",
    "\n",
    "import spacy\n",
    "from spacy.tokens import DocBin\n",
    "from spacy.util import filter_spans\n",
    "\n",
    "from spacy.training import Example\n",
    "import random\n",
    "from tqdm import tqdm\n",
    "\n",
    "nlp = spacy.blank(\"en\")\n",
    "ner = nlp.add_pipe(\"ner\")"
   ]
  },
  {
   "cell_type": "code",
   "execution_count": 2,
   "outputs": [],
   "source": [
    "def load_data_from_spacy_file(file_path):\n",
    "    doc_bin = DocBin().from_disk(file_path)\n",
    "    examples = list(doc_bin.get_docs(nlp.vocab))\n",
    "    return examples"
   ],
   "metadata": {
    "collapsed": false,
    "ExecuteTime": {
     "end_time": "2023-11-27T14:37:59.227657700Z",
     "start_time": "2023-11-27T14:37:59.210656500Z"
    }
   },
   "id": "256a722886912b50"
  },
  {
   "cell_type": "code",
   "execution_count": 3,
   "outputs": [],
   "source": [
    "train_data = load_data_from_spacy_file('output/train.spacy')"
   ],
   "metadata": {
    "collapsed": false,
    "ExecuteTime": {
     "end_time": "2023-11-27T14:38:03.601428600Z",
     "start_time": "2023-11-27T14:37:59.225658400Z"
    }
   },
   "id": "faa469805737237d"
  },
  {
   "cell_type": "code",
   "execution_count": 4,
   "outputs": [
    {
     "data": {
      "text/plain": "Thousands of demonstrators have marched through London to protest the war in Iraq and demand the withdrawal of British troops from that country ."
     },
     "execution_count": 4,
     "metadata": {},
     "output_type": "execute_result"
    }
   ],
   "source": [
    "train_data[0]"
   ],
   "metadata": {
    "collapsed": false,
    "ExecuteTime": {
     "end_time": "2023-11-27T14:38:03.673633800Z",
     "start_time": "2023-11-27T14:38:03.604429300Z"
    }
   },
   "id": "efceb4e2dbc50beb"
  },
  {
   "cell_type": "code",
   "execution_count": 5,
   "outputs": [],
   "source": [
    "train_examples = []\n",
    "for example in train_data:\n",
    "    temp_dict = {}\n",
    "    temp_dict['text'] = example.text\n",
    "    temp_dict['entities'] = []\n",
    "    for ent in example.ents:\n",
    "        temp_dict['entities'].append((ent.start_char, ent.end_char, ent.label_))\n",
    "    train_examples.append(temp_dict)"
   ],
   "metadata": {
    "collapsed": false,
    "ExecuteTime": {
     "end_time": "2023-11-27T14:38:05.757675Z",
     "start_time": "2023-11-27T14:38:03.634635400Z"
    }
   },
   "id": "9ecd0d240183d7fc"
  },
  {
   "cell_type": "code",
   "execution_count": 7,
   "outputs": [
    {
     "data": {
      "text/plain": "40765"
     },
     "execution_count": 7,
     "metadata": {},
     "output_type": "execute_result"
    }
   ],
   "source": [
    "len(train_examples)"
   ],
   "metadata": {
    "collapsed": false,
    "ExecuteTime": {
     "end_time": "2023-11-27T14:38:05.841960400Z",
     "start_time": "2023-11-27T14:38:05.776675700Z"
    }
   },
   "id": "5c20ae4162925b49"
  },
  {
   "cell_type": "code",
   "execution_count": 8,
   "outputs": [],
   "source": [
    "nlp = spacy.blank(\"en\")\n",
    "ner = nlp.add_pipe(\"ner\")"
   ],
   "metadata": {
    "collapsed": false,
    "ExecuteTime": {
     "end_time": "2023-11-27T14:38:05.991378200Z",
     "start_time": "2023-11-27T14:38:05.816923700Z"
    }
   },
   "id": "982e81eacae7737"
  },
  {
   "cell_type": "code",
   "execution_count": 9,
   "outputs": [],
   "source": [
    "# training process\n",
    "optimizer = nlp.begin_training()\n",
    "epochs = 5"
   ],
   "metadata": {
    "collapsed": false,
    "ExecuteTime": {
     "end_time": "2023-11-27T14:38:06.087619600Z",
     "start_time": "2023-11-27T14:38:05.993340700Z"
    }
   },
   "id": "f3a418628e88b2ae"
  },
  {
   "cell_type": "code",
   "execution_count": 11,
   "outputs": [],
   "source": [
    "for epoch in range(epochs):\n",
    "    random.shuffle(train_examples)\n",
    "    losses = {}\n",
    "    for example in tqdm(train_examples):\n",
    "        doc = nlp.make_doc(example['text'])\n",
    "        gold = Example.from_dict(doc, example)\n",
    "        nlp.update([gold], sgd=optimizer, drop=0.5, losses=losses)\n",
    "    print(\"Epoch: {} Loss: {}\".format(epoch + 1, losses))"
   ],
   "metadata": {
    "collapsed": false,
    "ExecuteTime": {
     "end_time": "2023-11-27T14:38:15.554822900Z",
     "start_time": "2023-11-27T14:38:15.522676300Z"
    }
   },
   "id": "396678835174583f"
  },
  {
   "cell_type": "code",
   "execution_count": null,
   "outputs": [],
   "source": [
    "# save model to output directory and name it \"trained_model\"\n",
    "output_dir = 'output_models'\n",
    "nlp.to_disk(output_dir)\n",
    "print(\"Saved model to\", output_dir)"
   ],
   "metadata": {
    "collapsed": false
   },
   "id": "c259e5340713843a"
  }
 ],
 "metadata": {
  "kernelspec": {
   "display_name": "Python 3",
   "language": "python",
   "name": "python3"
  },
  "language_info": {
   "codemirror_mode": {
    "name": "ipython",
    "version": 2
   },
   "file_extension": ".py",
   "mimetype": "text/x-python",
   "name": "python",
   "nbconvert_exporter": "python",
   "pygments_lexer": "ipython2",
   "version": "2.7.6"
  }
 },
 "nbformat": 4,
 "nbformat_minor": 5
}
